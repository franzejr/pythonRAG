{
  "cells": [
    {
      "cell_type": "code",
      "execution_count": null,
      "metadata": {
        "vscode": {
          "languageId": "plaintext"
        }
      },
      "outputs": [],
      "source": [
        "# Getting Started with PythonRAG\n",
        "\n",
        "This notebook demonstrates how to get started with the PythonRAG package for building Retrieval-Augmented Generation (RAG) systems.\n",
        "\n",
        "## Prerequisites\n",
        "\n",
        "Before running this notebook, make sure you have:\n",
        "\n",
        "1. Installed PythonRAG: `pip install pythonrag`\n",
        "2. (Optional) OpenAI API key for advanced features: `export OPENAI_API_KEY=\"your-key\"`\n",
        "3. (Optional) Additional dependencies: `pip install 'pythonrag[all]'`\n"
      ]
    },
    {
      "cell_type": "code",
      "execution_count": null,
      "metadata": {
        "vscode": {
          "languageId": "plaintext"
        }
      },
      "outputs": [],
      "source": [
        "## 1. Basic Setup and Import\n"
      ]
    },
    {
      "cell_type": "code",
      "execution_count": null,
      "metadata": {},
      "outputs": [],
      "source": [
        "# Import necessary libraries\n",
        "import os\n",
        "from pythonrag import RAGPipeline\n",
        "\n",
        "# Check if we're ready to go\n",
        "print(\"🚀 PythonRAG imported successfully!\")\n",
        "print(f\"📦 Working directory: {os.getcwd()}\")\n"
      ]
    },
    {
      "cell_type": "code",
      "execution_count": null,
      "metadata": {},
      "outputs": [],
      "source": [
        "## 2. Create a Basic RAG Pipeline\n"
      ]
    },
    {
      "cell_type": "code",
      "execution_count": null,
      "metadata": {},
      "outputs": [],
      "source": [
        "# Create a basic RAG pipeline\n",
        "rag = RAGPipeline(\n",
        "    embedding_model=\"sentence-transformers/all-MiniLM-L6-v2\",\n",
        "    llm_model=\"gpt-3.5-turbo\",\n",
        "    chunk_size=1000,\n",
        "    top_k=5\n",
        ")\n",
        "\n",
        "print(\"✅ RAG pipeline created!\")\n",
        "print(\"\\n📊 Pipeline Configuration:\")\n",
        "stats = rag.get_stats()\n",
        "for key, value in stats.items():\n",
        "    print(f\"   {key}: {value}\")\n"
      ]
    },
    {
      "cell_type": "code",
      "execution_count": null,
      "metadata": {},
      "outputs": [],
      "source": [
        "## 3. OpenAI Configuration Example\n"
      ]
    },
    {
      "cell_type": "code",
      "execution_count": null,
      "metadata": {},
      "outputs": [],
      "source": [
        "# Check if OpenAI is available\n",
        "openai_available = bool(os.getenv(\"OPENAI_API_KEY\"))\n",
        "print(f\"🔑 OpenAI API Key available: {openai_available}\")\n",
        "\n",
        "if openai_available:\n",
        "    # Create an OpenAI-powered RAG pipeline\n",
        "    rag_openai = RAGPipeline(\n",
        "        embedding_model=\"text-embedding-3-small\",\n",
        "        llm_model=\"gpt-4o-mini\",\n",
        "        chunk_size=800,\n",
        "        top_k=3\n",
        "    )\n",
        "    \n",
        "    print(\"\\n🤖 OpenAI RAG pipeline created!\")\n",
        "    print(\"📊 OpenAI Configuration:\")\n",
        "    openai_stats = rag_openai.get_stats()\n",
        "    for key, value in openai_stats.items():\n",
        "        print(f\"   {key}: {value}\")\n",
        "else:\n",
        "    print(\"ℹ️  To use OpenAI models, set your API key:\")\n",
        "    print('   export OPENAI_API_KEY=\"your-api-key-here\"')\n"
      ]
    },
    {
      "cell_type": "code",
      "execution_count": null,
      "metadata": {},
      "outputs": [],
      "source": [
        "## 4. Next Steps and Documentation\n",
        "\n",
        "🎯 **Next Steps for Development:**\n",
        "1. Implement document processing and chunking\n",
        "2. Add embedding generation functionality \n",
        "3. Integrate vector database support\n",
        "4. Implement semantic search and retrieval\n",
        "5. Add LLM integration for response generation\n",
        "\n",
        "📚 **Learn More:**\n",
        "- Check `examples/basic_usage.py` for simple usage\n",
        "- See `examples/openai_usage.py` for OpenAI integration\n",
        "- Run tests with `pytest tests/`\n",
        "- View documentation (coming soon)\n",
        "\n",
        "🚀 **Ready to start building RAG applications with PythonRAG!**\n"
      ]
    }
  ],
  "metadata": {
    "language_info": {
      "name": "python"
    }
  },
  "nbformat": 4,
  "nbformat_minor": 2
}
